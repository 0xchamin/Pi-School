{
 "cells": [
  {
   "cell_type": "markdown",
   "metadata": {},
   "source": [
    "## Conversion of TF models to MXNet\n",
    "\n",
    "It is REALLY helpful to be able to convert TF models to MXNet because it would allow testing synthesis using MXNet before the more complicated task of training."
   ]
  },
  {
   "cell_type": "code",
   "execution_count": 1,
   "metadata": {},
   "outputs": [
    {
     "name": "stdout",
     "output_type": "stream",
     "text": [
      "Collecting mmdnn\n",
      "  Downloading https://files.pythonhosted.org/packages/1a/06/0b65c2574eea2c0fece070e16d34152d523c9fcb163607639a20a313269b/mmdnn-0.2.2-py2.py3-none-any.whl (266kB)\n",
      "Requirement already satisfied: protobuf>=3.1.0 in c:\\users\\dougl_000\\anaconda3\\lib\\site-packages (from mmdnn) (3.5.2.post1)\n",
      "Requirement already satisfied: pillow>=3.1.0 in c:\\users\\dougl_000\\anaconda3\\lib\\site-packages (from mmdnn) (5.1.0)\n",
      "Requirement already satisfied: six>=1.10.0 in c:\\users\\dougl_000\\anaconda3\\lib\\site-packages (from mmdnn) (1.11.0)\n",
      "Collecting uuid (from mmdnn)\n",
      "  Downloading https://files.pythonhosted.org/packages/ce/63/f42f5aa951ebf2c8dac81f77a8edcc1c218640a2a35a03b9ff2d4aa64c3d/uuid-1.30.tar.gz\n",
      "Requirement already satisfied: numpy>=1.11.0 in c:\\users\\dougl_000\\anaconda3\\lib\\site-packages (from mmdnn) (1.14.3)\n",
      "Requirement already satisfied: setuptools in c:\\users\\dougl_000\\anaconda3\\lib\\site-packages (from protobuf>=3.1.0->mmdnn) (39.1.0)\n",
      "Building wheels for collected packages: uuid\n",
      "  Running setup.py bdist_wheel for uuid: started\n",
      "  Running setup.py bdist_wheel for uuid: finished with status 'done'\n",
      "  Stored in directory: C:\\Users\\dougl_000\\AppData\\Local\\pip\\Cache\\wheels\\2a\\80\\9b\\015026567c29fdffe31d91edbe7ba1b17728db79194fca1f21\n",
      "Successfully built uuid\n",
      "Installing collected packages: uuid, mmdnn\n",
      "Successfully installed mmdnn-0.2.2 uuid-1.30\n"
     ]
    }
   ],
   "source": [
    "!pip install mmdnn"
   ]
  },
  {
   "cell_type": "code",
   "execution_count": null,
   "metadata": {},
   "outputs": [],
   "source": []
  }
 ],
 "metadata": {
  "kernelspec": {
   "display_name": "Python 3",
   "language": "python",
   "name": "python3"
  },
  "language_info": {
   "codemirror_mode": {
    "name": "ipython",
    "version": 3
   },
   "file_extension": ".py",
   "mimetype": "text/x-python",
   "name": "python",
   "nbconvert_exporter": "python",
   "pygments_lexer": "ipython3",
   "version": "3.6.5"
  }
 },
 "nbformat": 4,
 "nbformat_minor": 2
}
